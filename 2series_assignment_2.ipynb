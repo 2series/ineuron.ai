{
  "nbformat": 4,
  "nbformat_minor": 0,
  "metadata": {
    "colab": {
      "name": "2series_assignment_2.ipynb",
      "provenance": [],
      "collapsed_sections": [],
      "authorship_tag": "ABX9TyMYr3CSmquoNAe8d0fqDl1j",
      "include_colab_link": true
    },
    "kernelspec": {
      "name": "python3",
      "display_name": "Python 3"
    }
  },
  "cells": [
    {
      "cell_type": "markdown",
      "metadata": {
        "id": "view-in-github",
        "colab_type": "text"
      },
      "source": [
        "<a href=\"https://colab.research.google.com/github/2series/ineuron.ai/blob/master/2series_assignment_2.ipynb\" target=\"_parent\"><img src=\"https://colab.research.google.com/assets/colab-badge.svg\" alt=\"Open In Colab\"/></a>"
      ]
    },
    {
      "cell_type": "markdown",
      "metadata": {
        "id": "jQdP6NUd-qPA",
        "colab_type": "text"
      },
      "source": [
        "# Task 1:"
      ]
    },
    {
      "cell_type": "markdown",
      "metadata": {
        "id": "MZLqqB6d-qPB",
        "colab_type": "text"
      },
      "source": [
        "#### 1.1  Write a Python Program to implement your own myreduce() function which works exactly like Python's built-in function reduce() "
      ]
    },
    {
      "cell_type": "code",
      "metadata": {
        "id": "wqMi0kKN-qPC",
        "colab_type": "code",
        "colab": {}
      },
      "source": [
        "from functools import reduce"
      ],
      "execution_count": 0,
      "outputs": []
    },
    {
      "cell_type": "code",
      "metadata": {
        "id": "eh78RPxx-qPG",
        "colab_type": "code",
        "outputId": "6264e54d-8a4c-4ac7-84a7-bdd7615add1e",
        "colab": {
          "base_uri": "https://localhost:8080/",
          "height": 34
        }
      },
      "source": [
        "def my_reduce(x1, x2):   \n",
        "    return x1 + x2\n",
        "reduce(my_reduce, [1, 2, 3, 4])"
      ],
      "execution_count": 2,
      "outputs": [
        {
          "output_type": "execute_result",
          "data": {
            "text/plain": [
              "10"
            ]
          },
          "metadata": {
            "tags": []
          },
          "execution_count": 2
        }
      ]
    },
    {
      "cell_type": "code",
      "metadata": {
        "id": "qycrh6f6-qPL",
        "colab_type": "code",
        "outputId": "3e4b688c-111b-4bf9-89e7-72e48ce00fa2",
        "colab": {
          "base_uri": "https://localhost:8080/",
          "height": 34
        }
      },
      "source": [
        "def my_reduce(x, y):\n",
        "    return x + y\n",
        "reduce(my_reduce, [6, 7, 8, 9, 10])"
      ],
      "execution_count": 4,
      "outputs": [
        {
          "output_type": "execute_result",
          "data": {
            "text/plain": [
              "40"
            ]
          },
          "metadata": {
            "tags": []
          },
          "execution_count": 4
        }
      ]
    },
    {
      "cell_type": "markdown",
      "metadata": {
        "id": "6zeX3_IL-qPO",
        "colab_type": "text"
      },
      "source": [
        "#### 1.2 Write a Python program to implement your own myfilter() function which works exactly like Python's built-in function filter() "
      ]
    },
    {
      "cell_type": "code",
      "metadata": {
        "id": "Xt5dO3db-qPO",
        "colab_type": "code",
        "outputId": "23cace08-7f50-49f3-c6b1-a3d128bcc260",
        "colab": {
          "base_uri": "https://localhost:8080/",
          "height": 34
        }
      },
      "source": [
        "item = [6, 7, 8, 9, 10]\n",
        "\n",
        "def sqr(x):\n",
        "    return x**2\n",
        "list(map(sqr, item))"
      ],
      "execution_count": 5,
      "outputs": [
        {
          "output_type": "execute_result",
          "data": {
            "text/plain": [
              "[36, 49, 64, 81, 100]"
            ]
          },
          "metadata": {
            "tags": []
          },
          "execution_count": 5
        }
      ]
    },
    {
      "cell_type": "code",
      "metadata": {
        "id": "07rC1ehR-qPS",
        "colab_type": "code",
        "outputId": "752949e2-6684-455a-84e6-cabb68fb710f",
        "colab": {
          "base_uri": "https://localhost:8080/",
          "height": 34
        }
      },
      "source": [
        "num = [1, 2, 3, 4, 5]\n",
        "\n",
        "def square(x):\n",
        "    return x**2\n",
        "list(map(square, num))"
      ],
      "execution_count": 6,
      "outputs": [
        {
          "output_type": "execute_result",
          "data": {
            "text/plain": [
              "[1, 4, 9, 16, 25]"
            ]
          },
          "metadata": {
            "tags": []
          },
          "execution_count": 6
        }
      ]
    },
    {
      "cell_type": "markdown",
      "metadata": {
        "id": "cktZTlpO-qPW",
        "colab_type": "text"
      },
      "source": [
        "#### 2. Implement List comprehensions to produce the following lists. \n",
        " \n",
        "Write List comprehensions to produce the following Lists \n",
        " \n",
        "['A', 'C', 'A', 'D', 'G', 'I', ’L’, ‘ D’] \n",
        " \n",
        "['x', 'xx', 'xxx', 'xxxx', 'y', 'yy', 'yyy', 'yyyy', 'z', 'zz', 'zzz', 'zzzz'] \n",
        " \n",
        "['x', 'y', 'z', 'xx', 'yy', 'zz', 'xx', 'yy', 'zz', 'xxxx', 'yyyy', 'zzzz'] \n",
        " \n",
        "[[2], [3], [4], [3], [4], [5], [4], [5], [6]] \n",
        " \n",
        "[[2, 3, 4, 5], [3, 4, 5, 6], [4, 5, 6, 7], [5, 6, 7, 8]] \n",
        " \n",
        "[(1, 1), (2, 1), (3, 1), (1, 2), (2, 2), (3, 2), (1, 3), (2, 3), (3, 3)] "
      ]
    },
    {
      "cell_type": "code",
      "metadata": {
        "id": "6BW_DE2l-qPX",
        "colab_type": "code",
        "outputId": "f897b6c4-a292-4d36-e7a7-1e67a2bdbdbf",
        "colab": {
          "base_uri": "https://localhost:8080/",
          "height": 34
        }
      },
      "source": [
        "['A', 'C', 'A', 'D', 'G', 'I', 'L', 'D']\n",
        "['x', 'xx', 'xxx', 'xxxx', 'y', 'yy', 'yyy', 'yyyy', 'z', 'zz', 'zzz', 'zzzz']\n",
        "['x', 'y', 'z', 'xx', 'yy', 'zz', 'xxx', 'yyy', 'zzz', 'xxxx', 'yyyy', 'zzzz']\n",
        "[[2], [3], [4], [3], [4], [5], [4], [5], [6]]\n",
        "[[2, 3, 4, 5], [3, 4, 5, 6], [4, 5, 6, 7], [5, 6, 7, 8]]\n",
        "[(1, 1), (2, 1), (3, 1), (1, 2), (2, 2), (3, 2), (1, 3), (2, 3), (3, 3)]"
      ],
      "execution_count": 7,
      "outputs": [
        {
          "output_type": "execute_result",
          "data": {
            "text/plain": [
              "[(1, 1), (2, 1), (3, 1), (1, 2), (2, 2), (3, 2), (1, 3), (2, 3), (3, 3)]"
            ]
          },
          "metadata": {
            "tags": []
          },
          "execution_count": 7
        }
      ]
    },
    {
      "cell_type": "code",
      "metadata": {
        "id": "w7CjcIi_-qPa",
        "colab_type": "code",
        "outputId": "d0b5bc2d-a3bc-4ed9-ac8e-c33576943f42",
        "colab": {
          "base_uri": "https://localhost:8080/",
          "height": 34
        }
      },
      "source": [
        "word = 'ACADGILD'\n",
        "alphabet_list = [alphabet for alphabet in word]\n",
        "print('ACADGILD => '  + str(alphabet_list))"
      ],
      "execution_count": 8,
      "outputs": [
        {
          "output_type": "stream",
          "text": [
            "ACADGILD => ['A', 'C', 'A', 'D', 'G', 'I', 'L', 'D']\n"
          ],
          "name": "stdout"
        }
      ]
    },
    {
      "cell_type": "code",
      "metadata": {
        "id": "YKv6CVRj-qPf",
        "colab_type": "code",
        "outputId": "dce50e58-9263-42ec-e7a1-ab5012431d26",
        "colab": {
          "base_uri": "https://localhost:8080/",
          "height": 34
        }
      },
      "source": [
        "input_list = ['x', 'y', 'z']\n",
        "res = [item*num for item in input_list for num in range(1, 5)]\n",
        "print(\"['x', 'y', 'z'] => \" +   str(res))"
      ],
      "execution_count": 11,
      "outputs": [
        {
          "output_type": "stream",
          "text": [
            "['x', 'y', 'z'] => ['x', 'xx', 'xxx', 'xxxx', 'y', 'yy', 'yyy', 'yyyy', 'z', 'zz', 'zzz', 'zzzz']\n"
          ],
          "name": "stdout"
        }
      ]
    },
    {
      "cell_type": "markdown",
      "metadata": {
        "id": "pSh5-Jdt-qPl",
        "colab_type": "text"
      },
      "source": [
        "#### 3. Implement a function longestWord() that takes a list of words and returns the longest one"
      ]
    },
    {
      "cell_type": "code",
      "metadata": {
        "id": "jpBQFvTp-qPl",
        "colab_type": "code",
        "outputId": "359142a1-59e8-4955-efec-115629a7b25d",
        "colab": {
          "base_uri": "https://localhost:8080/",
          "height": 34
        }
      },
      "source": [
        "def find_longest_word(words_list):  \n",
        "    word_len = []  \n",
        "    for n in words_list:  \n",
        "        word_len.append((len(n), n))  \n",
        "    word_len.sort()  \n",
        "    return word_len[-1][1]  \n",
        "  \n",
        "print(find_longest_word(['Variawa', 'Rihad Variawa', 'Rihad']))  "
      ],
      "execution_count": 13,
      "outputs": [
        {
          "output_type": "stream",
          "text": [
            "Rihad Variawa\n"
          ],
          "name": "stdout"
        }
      ]
    },
    {
      "cell_type": "markdown",
      "metadata": {
        "id": "LVgPJHjS-qPv",
        "colab_type": "text"
      },
      "source": [
        "# Task 2:"
      ]
    },
    {
      "cell_type": "markdown",
      "metadata": {
        "id": "EG5tWj3W-qP1",
        "colab_type": "text"
      },
      "source": [
        "#### 1.1  Write a Python Program(with class concepts) to find the area of the triangle using the below formula. \n",
        "area = (s*(s-a)*(s-b)*(s-c)) ** 0.5  \n",
        "Function to take the length of the sides of triangle from user should be defined in the parent class and function to calculate the area should be defined in subclass"
      ]
    },
    {
      "cell_type": "code",
      "metadata": {
        "id": "MVVgZmQp-qP2",
        "colab_type": "code",
        "colab": {
          "base_uri": "https://localhost:8080/",
          "height": 86
        },
        "outputId": "1f2c315f-8f21-4fbc-a8db-06e024859118"
      },
      "source": [
        "import sys\n",
        "import math\n",
        " \n",
        "a = int(input(2))\n",
        "b = int(input(3))\n",
        "c = int(input(3))\n",
        "class triangle():\n",
        "   def __init__(self, a, b, c):\n",
        "       self.a = a\n",
        "       self.b = b\n",
        "       self.c = c\n",
        "   def area(self):\n",
        "       s = (a + b + c)/2\n",
        "       area = math.sqrt(s*(s-a)*(s-b)*(s-c))\n",
        "       return area\n",
        "t = triangle(a, b, c)\n",
        "print(t.area())"
      ],
      "execution_count": 14,
      "outputs": [
        {
          "output_type": "stream",
          "text": [
            "22\n",
            "33\n",
            "33\n",
            "2.8284271247461903\n"
          ],
          "name": "stdout"
        }
      ]
    },
    {
      "cell_type": "markdown",
      "metadata": {
        "id": "855VPIx0-qP-",
        "colab_type": "text"
      },
      "source": [
        "#### 1.2 Write a function filter_long_words() that takes a list of words and an integer n and returns the list of words that are longer than n "
      ]
    },
    {
      "cell_type": "code",
      "metadata": {
        "id": "Kwm3SdCf-qQA",
        "colab_type": "code",
        "colab": {}
      },
      "source": [
        "def filter_long_word(list, integer):\n",
        "  listOfWords = []\n",
        "  for i in range(len(list)):\n",
        "    if len(list[i]) > integer:\n",
        "      listofwords.append(list[i])\n",
        "      return listofwords\n",
        "      listofword = ['Home', 'People', 'car', 'favourite']\n",
        "      listofinterger = [4, 5, 3, 9]\n",
        "      print(str(filter_long_word(listofword,listofinteger)))"
      ],
      "execution_count": 0,
      "outputs": []
    },
    {
      "cell_type": "code",
      "metadata": {
        "id": "YRAcHtfN-qQD",
        "colab_type": "code",
        "colab": {}
      },
      "source": [
        ""
      ],
      "execution_count": 0,
      "outputs": []
    },
    {
      "cell_type": "markdown",
      "metadata": {
        "id": "aK9QxYjG-qQF",
        "colab_type": "text"
      },
      "source": [
        "#### 2.1 Write a Python program using function concept that maps  list of words into a list of integers representing the lengths of the corresponding words​ \n",
        " Hint: ​If a list [ ab,cde,erty] is passed on to the python function output should come as [2,3,4] \n",
        " Here 2,3 and 4 are the lengths of the words in the list"
      ]
    },
    {
      "cell_type": "code",
      "metadata": {
        "id": "gX2Avv_1-qQG",
        "colab_type": "code",
        "outputId": "38413fe4-7d05-46a9-e6b0-f7e11508b543",
        "colab": {
          "base_uri": "https://localhost:8080/",
          "height": 34
        }
      },
      "source": [
        "str = 'Jump over the fence'\n",
        "str.split(str)\n",
        "#str.split('str')\n",
        "print(str)"
      ],
      "execution_count": 21,
      "outputs": [
        {
          "output_type": "stream",
          "text": [
            "Jump over the fence\n"
          ],
          "name": "stdout"
        }
      ]
    },
    {
      "cell_type": "code",
      "metadata": {
        "id": "dwj88qwK-qQJ",
        "colab_type": "code",
        "outputId": "c947914f-514a-4275-d045-63570b8a8784",
        "colab": {
          "base_uri": "https://localhost:8080/",
          "height": 34
        }
      },
      "source": [
        "lt = ['Jump', 'over', 'the', 'fence']\n",
        "lt"
      ],
      "execution_count": 22,
      "outputs": [
        {
          "output_type": "execute_result",
          "data": {
            "text/plain": [
              "['Jump', 'over', 'the', 'fence']"
            ]
          },
          "metadata": {
            "tags": []
          },
          "execution_count": 22
        }
      ]
    },
    {
      "cell_type": "code",
      "metadata": {
        "id": "wdmoC53_-qQM",
        "colab_type": "code",
        "outputId": "252223f8-bc98-42ad-9870-6b38a6fdf3ce",
        "colab": {
          "base_uri": "https://localhost:8080/",
          "height": 52
        }
      },
      "source": [
        "original_str = 'This is a demonstration'\n",
        "num_words_list = list(original_str.split())\n",
        "print(num_words_list)\n",
        "\n",
        "num_words_list2 = [len(i)for i in num_words_list]\n",
        "print(num_words_list2)"
      ],
      "execution_count": 25,
      "outputs": [
        {
          "output_type": "stream",
          "text": [
            "['This', 'is', 'a', 'demonstration']\n",
            "[4, 2, 1, 13]\n"
          ],
          "name": "stdout"
        }
      ]
    },
    {
      "cell_type": "code",
      "metadata": {
        "id": "f7nnHIkk-qQO",
        "colab_type": "code",
        "colab": {}
      },
      "source": [
        ""
      ],
      "execution_count": 0,
      "outputs": []
    },
    {
      "cell_type": "markdown",
      "metadata": {
        "id": "sPOrEYXq-qQQ",
        "colab_type": "text"
      },
      "source": [
        "#### 2.2 Write a Python function which takes a character (i.e. a string of length 1) and returns True if it is a vowel, False otherwise"
      ]
    },
    {
      "cell_type": "code",
      "metadata": {
        "id": "g7s1vnH4-qQR",
        "colab_type": "code",
        "colab": {}
      },
      "source": [
        "def is_vowel(char):\n",
        "    if char == 'a' or 'e' or 'i' or 'o' or'u' or 'A' or 'E' or 'I' or 'O' or 'U':\n",
        "        print(True)\n",
        "    else:\n",
        "        print(False)"
      ],
      "execution_count": 0,
      "outputs": []
    },
    {
      "cell_type": "code",
      "metadata": {
        "id": "nDlBz0a5-qQU",
        "colab_type": "code",
        "colab": {}
      },
      "source": [
        ""
      ],
      "execution_count": 0,
      "outputs": []
    },
    {
      "cell_type": "code",
      "metadata": {
        "id": "Kax41tQb-qQY",
        "colab_type": "code",
        "outputId": "d2db465a-c6ec-4109-a891-7fefe340efc8",
        "colab": {
          "base_uri": "https://localhost:8080/",
          "height": 34
        }
      },
      "source": [
        "any(c in 'India' for c in 'aeiou')"
      ],
      "execution_count": 27,
      "outputs": [
        {
          "output_type": "execute_result",
          "data": {
            "text/plain": [
              "True"
            ]
          },
          "metadata": {
            "tags": []
          },
          "execution_count": 27
        }
      ]
    },
    {
      "cell_type": "code",
      "metadata": {
        "id": "y4WD2Bjb-qQc",
        "colab_type": "code",
        "colab": {
          "base_uri": "https://localhost:8080/",
          "height": 86
        },
        "outputId": "bfce23d7-5497-47e9-fed6-2258e938bca3"
      },
      "source": [
        "import sys\n",
        "import math\n",
        " \n",
        "a = int(input(2))\n",
        "b = int(input(3))\n",
        "c = int(input(3))\n",
        "class triangle():\n",
        "   def __init__(self, a, b, c):\n",
        "       self.a = a\n",
        "       self.b = b\n",
        "       self.c = c\n",
        "   def area(self):\n",
        "       s = (a + b + c)/2\n",
        "       area = math.sqrt(s*(s-a)*(s-b)*(s-c))\n",
        "       return area\n",
        "t = triangle(a, b, c)\n",
        "print(t.area())"
      ],
      "execution_count": 28,
      "outputs": [
        {
          "output_type": "stream",
          "text": [
            "22\n",
            "33\n",
            "33\n",
            "2.8284271247461903\n"
          ],
          "name": "stdout"
        }
      ]
    },
    {
      "cell_type": "code",
      "metadata": {
        "id": "YP37478w-qQg",
        "colab_type": "code",
        "colab": {}
      },
      "source": [
        ""
      ],
      "execution_count": 0,
      "outputs": []
    }
  ]
}